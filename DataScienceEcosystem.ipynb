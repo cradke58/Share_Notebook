{
 "cells": [
  {
   "cell_type": "markdown",
   "id": "38042d63-184f-4141-9532-f3b1022dd633",
   "metadata": {},
   "source": [
    "# Data Science Tools and Ecosystem"
   ]
  },
  {
   "cell_type": "markdown",
   "id": "cc49e4ce-d6be-49e8-a869-71de696b4217",
   "metadata": {},
   "source": [
    "```\n",
    "In this notebook, Data Science Tools and Ecosystem are summarized.\n",
    "```"
   ]
  },
  {
   "cell_type": "markdown",
   "id": "d2ab72b7-c57b-4ed0-9084-356f5ef97399",
   "metadata": {},
   "source": [
    "**Objectives:**\n",
    "\n",
    "- List popular languages for Data Science\n",
    "- List popular libraries that Data Scientists use\n",
    "- List, in a table, popular Data Science tools "
   ]
  },
  {
   "cell_type": "markdown",
   "id": "0f515d97-7d6c-4e10-801b-6de837b8a343",
   "metadata": {},
   "source": [
    "## Some of the popular languages that Data Scientists use are:\n",
    "\n",
    "1. Python\n",
    "2. R\n",
    "3. SQL\n",
    "4. MATLAB\n",
    "5. Java\n"
   ]
  },
  {
   "cell_type": "markdown",
   "id": "e9d0aa1a-223b-4109-9b53-d59234834380",
   "metadata": {},
   "source": [
    "\n",
    "## Some of the popular libraries that Data Scientists use are:\n",
    "\n",
    "1. NumPy\n",
    "2. Pandas\n",
    "3. Matplotlib\n",
    "4. Seaborn\n",
    "5. Scikit-learn\n"
   ]
  },
  {
   "cell_type": "markdown",
   "id": "74a5da8b-1200-48d4-b39e-86d4d9beb3d2",
   "metadata": {},
   "source": [
    "| Data Science Tools |\n",
    "| --- |\n",
    "| Jupyter Notebook |\n",
    "| Spyder |\n",
    "| PyCharm |"
   ]
  },
  {
   "cell_type": "markdown",
   "id": "79db3df6-8c1b-497b-b8e1-0bb57a26a21c",
   "metadata": {},
   "source": [
    "### Below are a few examples of evaluating arithmetic expressions in Python"
   ]
  },
  {
   "cell_type": "code",
   "execution_count": 3,
   "id": "45fc5efa-cd87-4e10-bd00-cb233f004bad",
   "metadata": {},
   "outputs": [
    {
     "data": {
      "text/plain": [
       "17"
      ]
     },
     "execution_count": 3,
     "metadata": {},
     "output_type": "execute_result"
    }
   ],
   "source": [
    "# This is a simple arithmetic expression to multiply then add integers\n",
    "(3*4)+5"
   ]
  },
  {
   "cell_type": "code",
   "execution_count": 4,
   "id": "d4ac5a3d-661b-424b-a403-46f1c0f18732",
   "metadata": {},
   "outputs": [
    {
     "data": {
      "text/plain": [
       "3.3333333333333335"
      ]
     },
     "execution_count": 4,
     "metadata": {},
     "output_type": "execute_result"
    }
   ],
   "source": [
    "# This will convert 200 minutes to hours by dividing by 60\n",
    "200/60"
   ]
  },
  {
   "cell_type": "markdown",
   "id": "b1da9329-d79f-4e3b-b933-36af937e0621",
   "metadata": {},
   "source": [
    "## Author\n",
    "\n",
    "Charles Radke\n"
   ]
  }
 ],
 "metadata": {
  "kernelspec": {
   "display_name": "Python 3",
   "language": "python",
   "name": "python3"
  },
  "language_info": {
   "codemirror_mode": {
    "name": "ipython",
    "version": 3
   },
   "file_extension": ".py",
   "mimetype": "text/x-python",
   "name": "python",
   "nbconvert_exporter": "python",
   "pygments_lexer": "ipython3",
   "version": "3.8.8"
  }
 },
 "nbformat": 4,
 "nbformat_minor": 5
}
